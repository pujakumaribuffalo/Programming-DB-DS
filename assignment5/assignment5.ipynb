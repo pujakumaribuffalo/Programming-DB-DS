{
 "cells": [
  {
   "cell_type": "raw",
   "id": "472d6d43",
   "metadata": {},
   "source": [
    "- ListV2\n",
    " - __init__\n",
    "    - self.values # list\n",
    " - __add__\n",
    " - __sub__\n",
    " - __mul__\n",
    " - __truediv__\n",
    " - append\n",
    " - mean\n",
    " - __iter__\n",
    " - __next__\n",
    " - __repr___\n",
    " \n",
    "- DataFrame\n",
    " - __init__\n",
    "     - self.index - a dictionary to map text/int to row index\n",
    "     - self.data (dict of ListV2 where each column is a key)\n",
    "     - self.columns a simple list\n",
    " - set_index\n",
    " - __setitem__\n",
    " - __getitem__\n",
    " - loc\n",
    " - iteritems\n",
    " - iterrows\n",
    " - as_type\n",
    " - drop\n",
    " - mean  \n",
    " - __repr__\n",
    " "
   ]
  },
  {
   "cell_type": "code",
   "execution_count": 22,
   "id": "8feed493",
   "metadata": {},
   "outputs": [],
   "source": [
    "class ListV2:\n",
    "    def __init__(self, values):    \n",
    "        self.values = list(values)\n",
    "        \n",
    "    def __add__(self, other):\n",
    "        if len(self.values) != len(other.values):\n",
    "            raise ValueError(\"Lists must have same length\")\n",
    "        return ListV2([self.values[i] + other.values[i] for i in range(len(self.values))])\n",
    "    \n",
    "    def __sub__(self, other):\n",
    "        if len(self.values) != len(other.values):\n",
    "            raise ValueError(\"Lists must have same length\")\n",
    "        return ListV2([self.values[i] - other.values[i] for i in range(len(self.values))])\n",
    "    \n",
    "    def __mul__(self, other):\n",
    "        if len(self.values) != len(other.values):\n",
    "            raise ValueError(\"Lists must have same length\")\n",
    "        return ListV2([self.values[i] * other.values[i] for i in range(len(self.values))])\n",
    "    \n",
    "    def __truediv__(self, other):\n",
    "        if len(self.values) != len(other.values):\n",
    "            raise ValueError(\"Lists must have same length\")\n",
    "        if 0 in other:\n",
    "            raise ValueError(\"Division by zero not allowed.\")\n",
    "        return ListV2([self.values[i] / other.values[i] for i in range(len(self.values))])\n",
    "    \n",
    "    def append(self, value):\n",
    "        self.values.append(value)\n",
    "    \n",
    "    def mean(self):\n",
    "        print(\"sum\", sum(self.values), len(self.values))\n",
    "        return sum(self.values) / len(self.values)\n",
    "    \n",
    "    def __iter__(self):\n",
    "        self.current_index = 0\n",
    "        return self\n",
    "    \n",
    "    def __next__(self):\n",
    "        if self.current_index >= len(self.values):\n",
    "            raise StopIteration\n",
    "        value = self.values[self.current_index]\n",
    "        self.current_index += 1\n",
    "        return value\n",
    "    \n",
    "    def __repr__(self):\n",
    "        return f\"ListV2({self.values})\"\n",
    "    \n",
    "    \n",
    "class DataFrame:\n",
    "    def __init__(self, data, columns):\n",
    "        self.index = {}\n",
    "        self.data = {}\n",
    "        self.columns = list(columns)\n",
    "        \n",
    "        for i, col in enumerate(columns):\n",
    "            \n",
    "            self.data[col] = ListV2([ele[i] for ele in data])\n",
    "            print(\"data\",self.data[col])  \n",
    "        \n",
    "        for i, row in enumerate(data):\n",
    "            self.index[row[0]] = i\n",
    "    \n",
    "    def set_index(self, col):\n",
    "        self.index = {}\n",
    "        for i, val in enumerate(self.data[col].values):\n",
    "            self.index[val] = i\n",
    "    \n",
    "    def __setitem__(self, key, value):\n",
    "        self.data[key] = value\n",
    "    \n",
    "    def __getitem__(self, key):\n",
    "        if isinstance(key, str):\n",
    "            return self.data[key][self.index[key]]\n",
    "        else:\n",
    "            return DataFrame([self.get_row(i) for i in key], self.columns)\n",
    "    \n",
    "    def loc(self, label):\n",
    "        return self.get_row(self.index[label])\n",
    "    \n",
    "    def iteritems(self):\n",
    "        for col in self.columns:\n",
    "            yield col, self.data[col]\n",
    "    \n",
    "    def iterrows(self):\n",
    "        for label in self.index:\n",
    "            yield label, self.get_row(self.index[label])\n",
    "    \n",
    "    def as_type(self, dtype):\n",
    "        for col in self.columns:\n",
    "            self.data[col] = ListV2([dtype(ele) for ele in self.data[col].values])\n",
    "    \n",
    "    def drop(self, labels):\n",
    "        if isinstance(labels, str):\n",
    "            labels = [labels]\n",
    "        for label in labels:\n",
    "            del self.data[label]\n",
    "            del self.index[self.data[label].values[0]]\n",
    "            self.columns.remove(label)\n",
    "    \n",
    "    def mean(self):\n",
    "        return {col: sum(self.data[col].values) / len(self.data[col].values) for col in self.columns[1:]}\n",
    "    \n",
    "    def __repr__(self):\n",
    "        # rows = [[label] + self.get_row(i) for label, i in self.index.items()]\n",
    "        # column_widths = [max(len(str(row[i])) for row in rows) for i in range(len(self.columns))]\n",
    "        # header = [col.ljust(column_widths[i]) for i, col in enumerate(self.columns)]\n",
    "        # row_strings = [header] + [\",\" * column_widths[i] for i in range(len(self.columns))] + \\\n",
    "        #               [[str(row[i]).ljust(column_widths[i]) for i in range(len(self.columns))] for row in rows]\n",
    "        # return \"\\n\".join([\" \".join(row) for row in row_strings])\n",
    "        header = [\"\"] + self.columns\n",
    "        row_strings = ','.join(header) + \"\\n\"\n",
    "        for i, key in enumerate(self.index.keys()):\n",
    "            row_strings += str(key) + ',' + ','.join(str(ele) for ele in self.get_row(i)) + \"\\n\"\n",
    "        print(row_strings)\n",
    "        return row_strings[:-1]\n",
    "    \n",
    "    def get_row(self, index):\n",
    "        return [self.data[col].values[index] for col in self.columns]"
   ]
  },
  {
   "cell_type": "code",
   "execution_count": 5,
   "id": "35ed0903",
   "metadata": {},
   "outputs": [
    {
     "name": "stdout",
     "output_type": "stream",
     "text": [
      "sum 10 4\n"
     ]
    },
    {
     "data": {
      "text/plain": [
       "True"
      ]
     },
     "execution_count": 5,
     "metadata": {},
     "output_type": "execute_result"
    }
   ],
   "source": [
    "x = [1, 2, 3, 4]\n",
    "l1 = ListV2(x)\n",
    "expected_output = 2.5\n",
    "expected_output == l1.mean()"
   ]
  },
  {
   "cell_type": "code",
   "execution_count": 6,
   "id": "df028585",
   "metadata": {},
   "outputs": [
    {
     "name": "stdout",
     "output_type": "stream",
     "text": [
      "sum 15 5\n"
     ]
    },
    {
     "data": {
      "text/plain": [
       "True"
      ]
     },
     "execution_count": 6,
     "metadata": {},
     "output_type": "execute_result"
    }
   ],
   "source": [
    "x.append(5)\n",
    "l1.append(5)\n",
    "expected_output = 3.0\n",
    "expected_output == l1.mean()"
   ]
  },
  {
   "cell_type": "code",
   "execution_count": 25,
   "id": "9c9bb34a",
   "metadata": {},
   "outputs": [
    {
     "name": "stdout",
     "output_type": "stream",
     "text": [
      "data1 [['student1', '92', '77', '87', '77', '94'], ['student2', '74', '93', '88', '67', '85'], ['student3', '83', '96', '74', '79', '92'], ['student4', '100', '72', '83', '85', '66'], ['student5', '77', '96', '66', '79', '92'], ['student6', '100', '86', '84', '70', '71'], ['student7', '66', '91', '94', '97', '80'], ['student8', '97', '86', '75', '69', '88'], ['student9', '95', '98', '99', '85', '86'], ['student10', '78', '76', '73', '88', '86']]\n",
      "data ListV2(['student1', 'student2', 'student3', 'student4', 'student5', 'student6', 'student7', 'student8', 'student9', 'student10'])\n",
      "data ListV2(['92', '74', '83', '100', '77', '100', '66', '97', '95', '78'])\n",
      "data ListV2(['77', '93', '96', '72', '96', '86', '91', '86', '98', '76'])\n",
      "data ListV2(['87', '88', '74', '83', '66', '84', '94', '75', '99', '73'])\n",
      "data ListV2(['77', '67', '79', '85', '79', '70', '97', '69', '85', '88'])\n",
      "data ListV2(['94', '85', '92', '66', '92', '71', '80', '88', '86', '86'])\n"
     ]
    }
   ],
   "source": [
    "columns = ('StudentName', 'E1', 'E2', 'E3', 'E4','E5')\n",
    "data1=[ele.strip().split(',') for ele in open('testdata_1.txt')]\n",
    "print(\"data1\", data1)\n",
    "df = DataFrame(data=[ele.strip().split(',') for ele in open('testdata_1.txt')], columns=columns)"
   ]
  },
  {
   "cell_type": "code",
   "execution_count": 28,
   "id": "d1c8e53d",
   "metadata": {},
   "outputs": [
    {
     "name": "stdout",
     "output_type": "stream",
     "text": [
      ",StudentName,E1,E2,E3,E4,E5\n",
      "student1,student1,92,77,87,77,94\n",
      "student2,student2,74,93,88,67,85\n",
      "student3,student3,83,96,74,79,92\n",
      "student4,student4,100,72,83,85,66\n",
      "student5,student5,77,96,66,79,92\n",
      "student6,student6,100,86,84,70,71\n",
      "student7,student7,66,91,94,97,80\n",
      "student8,student8,97,86,75,69,88\n",
      "student9,student9,95,98,99,85,86\n",
      "student10,student10,78,76,73,88,86\n",
      "\n",
      ",StudentName,E1,E2,E3,E4,E5\n",
      "student1,student1,92,77,87,77,94\n",
      "student2,student2,74,93,88,67,85\n",
      "student3,student3,83,96,74,79,92\n",
      "student4,student4,100,72,83,85,66\n",
      "student5,student5,77,96,66,79,92\n",
      "student6,student6,100,86,84,70,71\n",
      "student7,student7,66,91,94,97,80\n",
      "student8,student8,97,86,75,69,88\n",
      "student9,student9,95,98,99,85,86\n",
      "student10,student10,78,76,73,88,86\n"
     ]
    }
   ],
   "source": [
    "print(df)"
   ]
  },
  {
   "cell_type": "code",
   "execution_count": 54,
   "id": "20575f3a",
   "metadata": {},
   "outputs": [],
   "source": [
    "expected_output = \"\"\",StudentName,E1,E2,E3,E4,E5\n",
    "0,student1,92,77,87,77,94\n",
    "1,student2,74,93,88,67,85\n",
    "2,student3,83,96,74,79,92\n",
    "3,student4,100,72,83,85,66\n",
    "4,student5,77,96,66,79,92\n",
    "5,student6,100,86,84,70,71\n",
    "6,student7,66,91,94,97,80\n",
    "7,student8,97,86,75,69,88\n",
    "8,student9,95,98,99,85,86\n",
    "9,student10,78,76,73,88,86\"\"\""
   ]
  },
  {
   "cell_type": "code",
   "execution_count": 55,
   "id": "dcd4a1ef",
   "metadata": {},
   "outputs": [
    {
     "data": {
      "text/plain": [
       "True"
      ]
     },
     "execution_count": 55,
     "metadata": {},
     "output_type": "execute_result"
    }
   ],
   "source": [
    "expected_output == df.__repr__()"
   ]
  },
  {
   "cell_type": "code",
   "execution_count": 60,
   "id": "f2fa680c",
   "metadata": {},
   "outputs": [
    {
     "data": {
      "text/plain": [
       "assignment.ListV2"
      ]
     },
     "execution_count": 60,
     "metadata": {},
     "output_type": "execute_result"
    }
   ],
   "source": [
    "type(df['StudentName'])"
   ]
  },
  {
   "cell_type": "code",
   "execution_count": 57,
   "id": "66de4f8e",
   "metadata": {},
   "outputs": [],
   "source": [
    "expected_output = ['student1', 'student2', 'student3', 'student4', 'student5', 'student6', 'student7', 'student8', 'student9', 'student10']"
   ]
  },
  {
   "cell_type": "code",
   "execution_count": 58,
   "id": "cb3f8346",
   "metadata": {},
   "outputs": [
    {
     "data": {
      "text/plain": [
       "True"
      ]
     },
     "execution_count": 58,
     "metadata": {},
     "output_type": "execute_result"
    }
   ],
   "source": [
    "expected_output == df['StudentName'].values"
   ]
  },
  {
   "cell_type": "code",
   "execution_count": 62,
   "id": "4975c0d9",
   "metadata": {},
   "outputs": [
    {
     "data": {
      "text/plain": [
       ",StudentName,E1\n",
       "0,student1,92\n",
       "1,student2,74\n",
       "2,student3,83\n",
       "3,student4,100\n",
       "4,student5,77\n",
       "5,student6,100\n",
       "6,student7,66\n",
       "7,student8,97\n",
       "8,student9,95\n",
       "9,student10,78"
      ]
     },
     "execution_count": 62,
     "metadata": {},
     "output_type": "execute_result"
    }
   ],
   "source": [
    "df[['StudentName', 'E1']]"
   ]
  },
  {
   "cell_type": "code",
   "execution_count": 63,
   "id": "189a5139",
   "metadata": {},
   "outputs": [],
   "source": [
    "expected_output = \"\"\",StudentName,E1\n",
    "0,student1,92\n",
    "1,student2,74\n",
    "2,student3,83\n",
    "3,student4,100\n",
    "4,student5,77\n",
    "5,student6,100\n",
    "6,student7,66\n",
    "7,student8,97\n",
    "8,student9,95\n",
    "9,student10,78\"\"\"\n"
   ]
  },
  {
   "cell_type": "code",
   "execution_count": 64,
   "id": "dc020f8f",
   "metadata": {},
   "outputs": [
    {
     "data": {
      "text/plain": [
       "True"
      ]
     },
     "execution_count": 64,
     "metadata": {},
     "output_type": "execute_result"
    }
   ],
   "source": [
    "expected_output == df[['StudentName', 'E1']].__repr__()"
   ]
  },
  {
   "cell_type": "code",
   "execution_count": 65,
   "id": "8f92d013",
   "metadata": {},
   "outputs": [],
   "source": [
    "output = df[['StudentName', 'E1']]"
   ]
  },
  {
   "cell_type": "code",
   "execution_count": 66,
   "id": "32d628f6",
   "metadata": {},
   "outputs": [
    {
     "data": {
      "text/plain": [
       ",StudentName,E1\n",
       "0,student1,92\n",
       "1,student2,74\n",
       "2,student3,83\n",
       "3,student4,100\n",
       "4,student5,77\n",
       "5,student6,100\n",
       "6,student7,66\n",
       "7,student8,97\n",
       "8,student9,95\n",
       "9,student10,78"
      ]
     },
     "execution_count": 66,
     "metadata": {},
     "output_type": "execute_result"
    }
   ],
   "source": [
    "output"
   ]
  },
  {
   "cell_type": "code",
   "execution_count": 67,
   "id": "d9b74c61",
   "metadata": {},
   "outputs": [
    {
     "data": {
      "text/plain": [
       "True"
      ]
     },
     "execution_count": 67,
     "metadata": {},
     "output_type": "execute_result"
    }
   ],
   "source": [
    "expected_output = ['student1', 'student2', 'student3', 'student4', 'student5', 'student6', 'student7', 'student8', 'student9', 'student10']\n",
    "expected_output == list(output['StudentName'])"
   ]
  },
  {
   "cell_type": "code",
   "execution_count": 68,
   "id": "c04e5282",
   "metadata": {},
   "outputs": [
    {
     "data": {
      "text/plain": [
       "['student1',\n",
       " 'student2',\n",
       " 'student3',\n",
       " 'student4',\n",
       " 'student5',\n",
       " 'student6',\n",
       " 'student7',\n",
       " 'student8',\n",
       " 'student9',\n",
       " 'student10']"
      ]
     },
     "execution_count": 68,
     "metadata": {},
     "output_type": "execute_result"
    }
   ],
   "source": [
    "expected_output"
   ]
  },
  {
   "cell_type": "code",
   "execution_count": 69,
   "id": "24bef35e",
   "metadata": {},
   "outputs": [
    {
     "data": {
      "text/plain": [
       "True"
      ]
     },
     "execution_count": 69,
     "metadata": {},
     "output_type": "execute_result"
    }
   ],
   "source": [
    "expected_output = ['92', '74', '83', '100', '77', '100', '66', '97', '95', '78']\n",
    "expected_output == list(output['E1'])"
   ]
  },
  {
   "cell_type": "code",
   "execution_count": 70,
   "id": "23d4e21e",
   "metadata": {},
   "outputs": [
    {
     "data": {
      "text/plain": [
       "True"
      ]
     },
     "execution_count": 70,
     "metadata": {},
     "output_type": "execute_result"
    }
   ],
   "source": [
    "expected_output = \"\"\",StudentName,E1,E2,E3,E4,E5\n",
    "0,student2,74,93,88,67,85\n",
    "1,student3,83,96,74,79,92\n",
    "2,student4,100,72,83,85,66\"\"\"\n",
    "\n",
    "expected_output == df[1:4].__repr__() # slice"
   ]
  },
  {
   "cell_type": "code",
   "execution_count": 20,
   "id": "1783cc34",
   "metadata": {},
   "outputs": [
    {
     "name": "stdout",
     "output_type": "stream",
     "text": [
      "StudentName True\n",
      "E1 True\n",
      "E2 True\n",
      "E3 True\n",
      "E4 True\n",
      "E5 True\n"
     ]
    }
   ],
   "source": [
    "expected_output = {'StudentName': ['student2', 'student3', 'student4'],\n",
    "             'E1': ['74', '83', '100'],\n",
    "             'E2': ['93', '96', '72'],\n",
    "             'E3': ['88', '74', '83'],\n",
    "             'E4': ['67', '79', '85'],\n",
    "             'E5': ['85', '92', '66']}\n",
    "\n",
    "output = df[1:4]\n",
    "for key, value in expected_output.items():\n",
    "    print(key, value == list(output[key]))\n",
    "    "
   ]
  },
  {
   "cell_type": "code",
   "execution_count": 72,
   "id": "bfcda58f",
   "metadata": {},
   "outputs": [
    {
     "data": {
      "text/plain": [
       ",StudentName,E1,E2\n",
       "0,student2,74,93\n",
       "1,student3,83,96\n",
       "2,student4,100,72"
      ]
     },
     "execution_count": 72,
     "metadata": {},
     "output_type": "execute_result"
    }
   ],
   "source": [
    "df[1:4, :3]"
   ]
  },
  {
   "cell_type": "code",
   "execution_count": 73,
   "id": "5dd10416",
   "metadata": {},
   "outputs": [
    {
     "data": {
      "text/plain": [
       "True"
      ]
     },
     "execution_count": 73,
     "metadata": {},
     "output_type": "execute_result"
    }
   ],
   "source": [
    "expected_output = \"\"\",StudentName,E1,E2\n",
    "0,student2,74,93\n",
    "1,student3,83,96\n",
    "2,student4,100,72\"\"\"\n",
    "\n",
    "expected_output == df[1:4, :3].__repr__() # two slices"
   ]
  },
  {
   "cell_type": "code",
   "execution_count": 74,
   "id": "20da8007",
   "metadata": {},
   "outputs": [],
   "source": [
    "for col in ['E1', 'E2', 'E3', 'E4','E5']:\n",
    "    df.as_type(col, int)"
   ]
  },
  {
   "cell_type": "code",
   "execution_count": 75,
   "id": "1dc0a93d",
   "metadata": {},
   "outputs": [
    {
     "data": {
      "text/plain": [
       "True"
      ]
     },
     "execution_count": 75,
     "metadata": {},
     "output_type": "execute_result"
    }
   ],
   "source": [
    "expected_output = [92, 74, 83, 100, 77, 100, 66, 97, 95, 78]\n",
    "expected_output == df['E1'].values"
   ]
  },
  {
   "cell_type": "code",
   "execution_count": 77,
   "id": "8451bb1e",
   "metadata": {},
   "outputs": [
    {
     "data": {
      "text/plain": [
       "True"
      ]
     },
     "execution_count": 77,
     "metadata": {},
     "output_type": "execute_result"
    }
   ],
   "source": [
    "expected_output = [169, 167, 179, 172, 173, 186, 157, 183, 193, 154]\n",
    "expected_output == (df['E1'] + df['E2']).values"
   ]
  },
  {
   "cell_type": "code",
   "execution_count": 78,
   "id": "291af1d7",
   "metadata": {},
   "outputs": [
    {
     "data": {
      "text/plain": [
       "True"
      ]
     },
     "execution_count": 78,
     "metadata": {},
     "output_type": "execute_result"
    }
   ],
   "source": [
    "expected_output = {'E1': 86.2, 'E2': 87.1, 'E3': 82.3, 'E4': 79.6, 'E5': 84.0}\n",
    "expected_output == df[['E1', 'E2', 'E3', 'E4','E5']].mean()"
   ]
  },
  {
   "cell_type": "code",
   "execution_count": 79,
   "id": "3a0d34d4",
   "metadata": {},
   "outputs": [],
   "source": [
    "df.drop('E5')"
   ]
  },
  {
   "cell_type": "code",
   "execution_count": 80,
   "id": "97d1efc2",
   "metadata": {},
   "outputs": [
    {
     "data": {
      "text/plain": [
       "True"
      ]
     },
     "execution_count": 80,
     "metadata": {},
     "output_type": "execute_result"
    }
   ],
   "source": [
    "expected_output = ['StudentName', 'E1', 'E2', 'E3', 'E4']\n",
    "expected_output == df.columns"
   ]
  },
  {
   "cell_type": "code",
   "execution_count": 81,
   "id": "ddf80270",
   "metadata": {},
   "outputs": [
    {
     "data": {
      "text/plain": [
       "True"
      ]
     },
     "execution_count": 81,
     "metadata": {},
     "output_type": "execute_result"
    }
   ],
   "source": [
    "expected_output = \"\"\",StudentName,E1,E2,E3,E4\n",
    "0,student1,92,77,87,77\n",
    "1,student2,74,93,88,67\n",
    "2,student3,83,96,74,79\n",
    "3,student4,100,72,83,85\n",
    "4,student5,77,96,66,79\n",
    "5,student6,100,86,84,70\n",
    "6,student7,66,91,94,97\n",
    "7,student8,97,86,75,69\n",
    "8,student9,95,98,99,85\n",
    "9,student10,78,76,73,88\"\"\"\n",
    "\n",
    "expected_output == df.__repr__()"
   ]
  },
  {
   "cell_type": "code",
   "execution_count": 86,
   "id": "951f919d",
   "metadata": {},
   "outputs": [
    {
     "data": {
      "text/plain": [
       "('student1', 92, 77, 87, 77)"
      ]
     },
     "execution_count": 86,
     "metadata": {},
     "output_type": "execute_result"
    }
   ],
   "source": [
    "expected_output = df.loc(0)\n",
    "expected_output == df.loc(0)\n",
    "df.loc(0)"
   ]
  },
  {
   "cell_type": "code",
   "execution_count": 87,
   "id": "d162f953",
   "metadata": {},
   "outputs": [],
   "source": [
    "df.set_index(list(df['StudentName']))\n",
    "df.drop('StudentName')"
   ]
  },
  {
   "cell_type": "code",
   "execution_count": 88,
   "id": "c59cfa07",
   "metadata": {},
   "outputs": [
    {
     "data": {
      "text/plain": [
       ",E1,E2,E3,E4\n",
       "student1,92,77,87,77\n",
       "student2,74,93,88,67\n",
       "student3,83,96,74,79\n",
       "student4,100,72,83,85\n",
       "student5,77,96,66,79\n",
       "student6,100,86,84,70\n",
       "student7,66,91,94,97\n",
       "student8,97,86,75,69\n",
       "student9,95,98,99,85\n",
       "student10,78,76,73,88"
      ]
     },
     "execution_count": 88,
     "metadata": {},
     "output_type": "execute_result"
    }
   ],
   "source": [
    "df"
   ]
  },
  {
   "cell_type": "code",
   "execution_count": 89,
   "id": "296572a3",
   "metadata": {},
   "outputs": [
    {
     "data": {
      "text/plain": [
       "True"
      ]
     },
     "execution_count": 89,
     "metadata": {},
     "output_type": "execute_result"
    }
   ],
   "source": [
    "expected_output = \"\"\",E1,E2,E3,E4\n",
    "student1,92,77,87,77\n",
    "student2,74,93,88,67\n",
    "student3,83,96,74,79\n",
    "student4,100,72,83,85\n",
    "student5,77,96,66,79\n",
    "student6,100,86,84,70\n",
    "student7,66,91,94,97\n",
    "student8,97,86,75,69\n",
    "student9,95,98,99,85\n",
    "student10,78,76,73,88\"\"\"\n",
    "\n",
    "expected_output == df.__repr__()"
   ]
  },
  {
   "cell_type": "code",
   "execution_count": 90,
   "id": "f922051c",
   "metadata": {},
   "outputs": [
    {
     "data": {
      "text/plain": [
       "(92, 77, 87, 77)"
      ]
     },
     "execution_count": 90,
     "metadata": {},
     "output_type": "execute_result"
    }
   ],
   "source": [
    "df.loc('student1')"
   ]
  },
  {
   "cell_type": "code",
   "execution_count": 91,
   "id": "72fa1b49",
   "metadata": {},
   "outputs": [
    {
     "data": {
      "text/plain": [
       "True"
      ]
     },
     "execution_count": 91,
     "metadata": {},
     "output_type": "execute_result"
    }
   ],
   "source": [
    "expected_output = \"\"\",E1,E2\n",
    "student1,92,77\n",
    "student2,74,93\"\"\"\n",
    "\n",
    "expected_output == df.loc((['student1', 'student2'], ['E1', 'E2'])).__repr__()"
   ]
  },
  {
   "cell_type": "code",
   "execution_count": 92,
   "id": "15aeeb0d",
   "metadata": {},
   "outputs": [
    {
     "name": "stdout",
     "output_type": "stream",
     "text": [
      "E1 True\n",
      "E2 True\n"
     ]
    }
   ],
   "source": [
    "expected_output = {'E1': [92, 74], 'E2': [77, 93]}\n",
    "\n",
    "output = df.loc((['student1', 'student2'], ['E1', 'E2']))\n",
    "for key, value in expected_output.items():\n",
    "    print(key, value == list(output[key]))\n",
    "\n"
   ]
  },
  {
   "cell_type": "code",
   "execution_count": 93,
   "id": "3f11e6b8",
   "metadata": {},
   "outputs": [
    {
     "data": {
      "text/plain": [
       "True"
      ]
     },
     "execution_count": 93,
     "metadata": {},
     "output_type": "execute_result"
    }
   ],
   "source": [
    "expected_output = ['E1', 'E2']\n",
    "\n",
    "expected_output == output.columns"
   ]
  },
  {
   "cell_type": "code",
   "execution_count": 95,
   "id": "898c6d50",
   "metadata": {},
   "outputs": [
    {
     "data": {
      "text/plain": [
       "True"
      ]
     },
     "execution_count": 95,
     "metadata": {},
     "output_type": "execute_result"
    }
   ],
   "source": [
    "expected_output = {'student1': 0, 'student2': 1} \n",
    "expected_output == output.index"
   ]
  },
  {
   "cell_type": "code",
   "execution_count": 96,
   "id": "9de8e096",
   "metadata": {},
   "outputs": [
    {
     "data": {
      "text/plain": [
       "[('student1', (92, 77)), ('student2', (74, 93))]"
      ]
     },
     "execution_count": 96,
     "metadata": {},
     "output_type": "execute_result"
    }
   ],
   "source": [
    "output.iterrows()"
   ]
  },
  {
   "cell_type": "code",
   "execution_count": 98,
   "id": "3ab27571",
   "metadata": {},
   "outputs": [
    {
     "data": {
      "text/plain": [
       "True"
      ]
     },
     "execution_count": 98,
     "metadata": {},
     "output_type": "execute_result"
    }
   ],
   "source": [
    "expected_output = [('student1', (92, 77)), ('student2', (74, 93))]\n",
    "expected_output == output.iterrows()"
   ]
  },
  {
   "cell_type": "code",
   "execution_count": 100,
   "id": "cc85ca50",
   "metadata": {},
   "outputs": [
    {
     "data": {
      "text/plain": [
       "True"
      ]
     },
     "execution_count": 100,
     "metadata": {},
     "output_type": "execute_result"
    }
   ],
   "source": [
    "expected_output = {'E1': [92, 74], 'E2': [77, 93]}\n",
    "expected_output == dict(output.iteritems())"
   ]
  },
  {
   "cell_type": "code",
   "execution_count": 101,
   "id": "65a8984e",
   "metadata": {},
   "outputs": [
    {
     "data": {
      "text/plain": [
       "True"
      ]
     },
     "execution_count": 101,
     "metadata": {},
     "output_type": "execute_result"
    }
   ],
   "source": [
    "expected_output = [('student1', (92, 77, 87, 77)),\n",
    " ('student2', (74, 93, 88, 67)),\n",
    " ('student3', (83, 96, 74, 79)),\n",
    " ('student4', (100, 72, 83, 85)),\n",
    " ('student5', (77, 96, 66, 79)),\n",
    " ('student6', (100, 86, 84, 70)),\n",
    " ('student7', (66, 91, 94, 97)),\n",
    " ('student8', (97, 86, 75, 69)),\n",
    " ('student9', (95, 98, 99, 85)),\n",
    " ('student10', (78, 76, 73, 88))]\n",
    "\n",
    "expected_output == df.iterrows()"
   ]
  },
  {
   "cell_type": "code",
   "execution_count": 102,
   "id": "f2ff1380",
   "metadata": {},
   "outputs": [
    {
     "data": {
      "text/plain": [
       "dict_items([('E1', [92, 74, 83, 100, 77, 100, 66, 97, 95, 78]), ('E2', [77, 93, 96, 72, 96, 86, 91, 86, 98, 76]), ('E3', [87, 88, 74, 83, 66, 84, 94, 75, 99, 73]), ('E4', [77, 67, 79, 85, 79, 70, 97, 69, 85, 88])])"
      ]
     },
     "execution_count": 102,
     "metadata": {},
     "output_type": "execute_result"
    }
   ],
   "source": [
    "df.iteritems()"
   ]
  },
  {
   "cell_type": "code",
   "execution_count": 103,
   "id": "8f634dda",
   "metadata": {},
   "outputs": [
    {
     "data": {
      "text/plain": [
       "True"
      ]
     },
     "execution_count": 103,
     "metadata": {},
     "output_type": "execute_result"
    }
   ],
   "source": [
    "expected_output = {'E1': [92, 74, 83, 100, 77, 100, 66, 97, 95, 78],\n",
    " 'E2': [77, 93, 96, 72, 96, 86, 91, 86, 98, 76],\n",
    " 'E3': [87, 88, 74, 83, 66, 84, 94, 75, 99, 73],\n",
    " 'E4': [77, 67, 79, 85, 79, 70, 97, 69, 85, 88]}\n",
    "expected_output == dict(df.iteritems()) # column wise"
   ]
  },
  {
   "cell_type": "code",
   "execution_count": 104,
   "id": "95ebc862",
   "metadata": {},
   "outputs": [],
   "source": [
    "columns = ('StudentName', 'E1', 'E2', 'E3', 'E4', 'E5')\n",
    "df = DataFrame(data=[ele.strip().split(',') for ele in open('testdata_1.txt')], columns=columns)\n",
    "\n",
    "for col in ['E1', 'E2', 'E3', 'E4', 'E5']:\n",
    "    df.as_type(col, int)\n",
    "\n",
    "df.drop('E5')\n",
    "df.set_index(list(df['StudentName']))\n",
    "df.drop('StudentName')\n",
    "output = df.loc((['student1', 'student2', 'student3'], ['E1']))"
   ]
  },
  {
   "cell_type": "code",
   "execution_count": 105,
   "id": "e1bbd1ed",
   "metadata": {},
   "outputs": [
    {
     "data": {
      "text/plain": [
       "True"
      ]
     },
     "execution_count": 105,
     "metadata": {},
     "output_type": "execute_result"
    }
   ],
   "source": [
    "expected_output = [('student1', (92,)), ('student2', (74,)), ('student3', (83,))]\n",
    "expected_output == output.iterrows()"
   ]
  }
 ],
 "metadata": {
  "kernelspec": {
   "display_name": "Python 3 (ipykernel)",
   "language": "python",
   "name": "python3"
  },
  "language_info": {
   "codemirror_mode": {
    "name": "ipython",
    "version": 3
   },
   "file_extension": ".py",
   "mimetype": "text/x-python",
   "name": "python",
   "nbconvert_exporter": "python",
   "pygments_lexer": "ipython3",
   "version": "3.9.6"
  }
 },
 "nbformat": 4,
 "nbformat_minor": 5
}
